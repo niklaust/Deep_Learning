{
  "nbformat": 4,
  "nbformat_minor": 0,
  "metadata": {
    "colab": {
      "provenance": [],
      "authorship_tag": "ABX9TyPv5LnKGRuUGGYM8ynwugZO",
      "include_colab_link": true
    },
    "kernelspec": {
      "name": "python3",
      "display_name": "Python 3"
    },
    "language_info": {
      "name": "python"
    }
  },
  "cells": [
    {
      "cell_type": "markdown",
      "metadata": {
        "id": "view-in-github",
        "colab_type": "text"
      },
      "source": [
        "<a href=\"https://colab.research.google.com/github/niklaust/Deep_Learning/blob/main/PyTorch_for_Deep_Learning_notebook_of_nikluast.ipynb\" target=\"_parent\"><img src=\"https://colab.research.google.com/assets/colab-badge.svg\" alt=\"Open In Colab\"/></a>"
      ]
    },
    {
      "cell_type": "markdown",
      "source": [
        "# **Reference**\n",
        "Ian Pointer. (2019). *Programming PyTorch For Deep Learning Creating and Deploying Deep Learning Application*. O'Reilly"
      ],
      "metadata": {
        "id": "7sa8DyqUmEMV"
      }
    },
    {
      "cell_type": "markdown",
      "source": [
        "start 20230220"
      ],
      "metadata": {
        "id": "RVRNs0e5mHr6"
      }
    },
    {
      "cell_type": "markdown",
      "source": [
        "github:niklaust"
      ],
      "metadata": {
        "id": "IgxpYe30mJdq"
      }
    },
    {
      "cell_type": "markdown",
      "source": [
        "<h1><center><b>Programming PyTorch for Deep Learning</b></center></h1>"
      ],
      "metadata": {
        "id": "wuUZl1kumLIK"
      }
    },
    {
      "cell_type": "markdown",
      "source": [
        "## **What is Deep Learning?**"
      ],
      "metadata": {
        "id": "FLnNS88noYF7"
      }
    },
    {
      "cell_type": "markdown",
      "source": [
        "**Deep learning** is a **machine learning technique** that **uses multiple and numerous layers of nonlinear** transforms to progressively extract features from raw input\n",
        "\n",
        "**A technique to solve problems** by providing the inputs and desired outputs and letting the computer find the solution, normally **using a neural network**."
      ],
      "metadata": {
        "id": "HKyDFGn7oe3Z"
      }
    },
    {
      "cell_type": "code",
      "execution_count": null,
      "metadata": {
        "id": "ICxXyDd4l_4q"
      },
      "outputs": [],
      "source": []
    }
  ]
}